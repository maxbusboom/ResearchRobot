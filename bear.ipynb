{
 "cells": [
  {
   "cell_type": "markdown",
   "id": "68ac87a8",
   "metadata": {},
   "source": [
    "# Bear Bag Physics Problem\n",
    "\n",
    "This notebook solves a common wilderness problem: calculating the tension in ropes supporting a bear bag (food storage hung from a tree).\n",
    "\n",
    "## Problem Statement\n",
    "To protect her 17-kg pack from bears, a camper hangs it from ropes between two trees. What's the tension in each rope?\n",
    "\n",
    "The ropes make equal angles of 22° with the horizontal as shown in the textbook figure below.\n",
    "\n",
    "## Physics Approach\n",
    "We'll use a force balance approach. Since the bag is in equilibrium:\n",
    "- The vertical component of tension in both ropes must balance the weight of the bag\n",
    "- Mathematically: 2T·sin(θ) = mg"
   ]
  },
  {
   "cell_type": "code",
   "execution_count": 10,
   "id": "32c93436",
   "metadata": {},
   "outputs": [
    {
     "name": "stdout",
     "output_type": "stream",
     "text": [
      "Symbolic expression for tension:\n",
      "T = \\frac{83.385 \\text{kg} \\text{m}}{\\sin{\\left(\\theta \\right)} \\text{s}^{2}}\n"
     ]
    },
    {
     "ename": "TypeError",
     "evalue": "Cannot convert expression to float",
     "output_type": "error",
     "traceback": [
      "\u001b[31m---------------------------------------------------------------------------\u001b[39m",
      "\u001b[31mTypeError\u001b[39m                                 Traceback (most recent call last)",
      "\u001b[36mCell\u001b[39m\u001b[36m \u001b[39m\u001b[32mIn[10]\u001b[39m\u001b[32m, line 31\u001b[39m\n\u001b[32m     29\u001b[39m \u001b[38;5;66;03m# Extract the numeric coefficient of the newton unit\u001b[39;00m\n\u001b[32m     30\u001b[39m \u001b[38;5;28;01mfrom\u001b[39;00m\u001b[38;5;250m \u001b[39m\u001b[34;01msympy\u001b[39;00m\u001b[38;5;250m \u001b[39m\u001b[38;5;28;01mimport\u001b[39;00m simplify\n\u001b[32m---> \u001b[39m\u001b[32m31\u001b[39m tension_value = \u001b[38;5;28;43mfloat\u001b[39;49m\u001b[43m(\u001b[49m\u001b[43msimplify\u001b[49m\u001b[43m(\u001b[49m\u001b[43mtension_newtons\u001b[49m\u001b[43m/\u001b[49m\u001b[43mN\u001b[49m\u001b[43m)\u001b[49m\u001b[43m)\u001b[49m\n\u001b[32m     33\u001b[39m \u001b[38;5;28mprint\u001b[39m(\u001b[33m\"\u001b[39m\u001b[38;5;130;01m\\n\u001b[39;00m\u001b[33mFor a 17 kg bear bag and rope angle of 22°:\u001b[39m\u001b[33m\"\u001b[39m)\n\u001b[32m     34\u001b[39m \u001b[38;5;28mprint\u001b[39m(\u001b[33mf\u001b[39m\u001b[33m\"\u001b[39m\u001b[33mTension in each rope = \u001b[39m\u001b[38;5;132;01m{\u001b[39;00mtension_value\u001b[38;5;132;01m:\u001b[39;00m\u001b[33m.1f\u001b[39m\u001b[38;5;132;01m}\u001b[39;00m\u001b[33m N\u001b[39m\u001b[33m\"\u001b[39m)\n",
      "\u001b[36mFile \u001b[39m\u001b[32m~/.local/lib/python3.12/site-packages/sympy/core/expr.py:340\u001b[39m, in \u001b[36mExpr.__float__\u001b[39m\u001b[34m(self)\u001b[39m\n\u001b[32m    338\u001b[39m \u001b[38;5;28;01mif\u001b[39;00m result.is_number \u001b[38;5;129;01mand\u001b[39;00m result.as_real_imag()[\u001b[32m1\u001b[39m]:\n\u001b[32m    339\u001b[39m     \u001b[38;5;28;01mraise\u001b[39;00m \u001b[38;5;167;01mTypeError\u001b[39;00m(\u001b[33m\"\u001b[39m\u001b[33mCannot convert complex to float\u001b[39m\u001b[33m\"\u001b[39m)\n\u001b[32m--> \u001b[39m\u001b[32m340\u001b[39m \u001b[38;5;28;01mraise\u001b[39;00m \u001b[38;5;167;01mTypeError\u001b[39;00m(\u001b[33m\"\u001b[39m\u001b[33mCannot convert expression to float\u001b[39m\u001b[33m\"\u001b[39m)\n",
      "\u001b[31mTypeError\u001b[39m: Cannot convert expression to float"
     ]
    }
   ],
   "source": [
    "import sympy as sp\n",
    "from sympy.physics.units import kg, N, meter, second, degree\n",
    "import numpy as np\n",
    "import matplotlib.pyplot as plt\n",
    "\n",
    "# Define symbols and constants\n",
    "T, theta = sp.symbols('T theta')\n",
    "m = 17 * kg  # mass of the pack\n",
    "g_val = 9.81 * meter / second**2  # acceleration due to gravity\n",
    "\n",
    "# Force balance equation: 2T·sin(θ) = mg\n",
    "lhs = 2 * T * sp.sin(theta)  # left hand side: 2T·sin(θ)\n",
    "rhs = m * g_val               # right hand side: mg\n",
    "\n",
    "# Solve for tension T\n",
    "tension_expr = sp.solve(lhs - rhs, T)[0]\n",
    "print(\"Symbolic expression for tension:\")\n",
    "print(f\"T = {sp.latex(tension_expr)}\")\n",
    "\n",
    "# Substitute θ = 22 degrees and evaluate\n",
    "theta_val = 22 * degree\n",
    "tension_with_units = tension_expr.subs(theta, theta_val)\n",
    "\n",
    "# Convert to Newtons (N) for clearer output\n",
    "from sympy.physics.units import convert_to\n",
    "\n",
    "# Get the numerical result in Newtons\n",
    "tension_newtons = convert_to(tension_with_units, N)\n",
    "# Extract the numeric coefficient of the newton unit\n",
    "from sympy import simplify\n",
    "tension_value = float(simplify(tension_newtons/N))\n",
    "\n",
    "print(\"\\nFor a 17 kg bear bag and rope angle of 22°:\")\n",
    "print(f\"Tension in each rope = {tension_value:.1f} N\")"
   ]
  },
  {
   "cell_type": "code",
   "execution_count": null,
   "id": "6ec59dfc",
   "metadata": {},
   "outputs": [],
   "source": [
    "# Visualization of the forces\n",
    "def draw_bear_bag(angle_deg, tension, weight):\n",
    "    \"\"\"Create a visual representation of the bear bag and forces\"\"\"\n",
    "    fig, ax = plt.subplots(figsize=(10, 6))\n",
    "    \n",
    "    # Convert angle to radians for calculations\n",
    "    angle_rad = np.radians(angle_deg)\n",
    "    \n",
    "    # Coordinates\n",
    "    center = (5, 3)\n",
    "    rope_length = 2\n",
    "    \n",
    "    # Draw the bear bag\n",
    "    circle = plt.Circle(center, 0.5, color='brown', fill=True)\n",
    "    ax.add_patch(circle)\n",
    "    \n",
    "    # Draw the ropes\n",
    "    ax.plot([center[0] - rope_length * np.cos(angle_rad), center[0]], \n",
    "            [center[1] + rope_length * np.sin(angle_rad), center[1]], 'k-', linewidth=2)\n",
    "    ax.plot([center[0] + rope_length * np.cos(angle_rad), center[0]], \n",
    "            [center[1] + rope_length * np.sin(angle_rad), center[1]], 'k-', linewidth=2)\n",
    "    \n",
    "    # Draw the forces\n",
    "    # Tension forces\n",
    "    ax.arrow(center[0], center[1], -rope_length * np.cos(angle_rad) * 0.7, \n",
    "             rope_length * np.sin(angle_rad) * 0.7, head_width=0.1, \n",
    "             head_length=0.2, fc='red', ec='red', width=0.03)\n",
    "    ax.arrow(center[0], center[1], rope_length * np.cos(angle_rad) * 0.7, \n",
    "             rope_length * np.sin(angle_rad) * 0.7, head_width=0.1, \n",
    "             head_length=0.2, fc='red', ec='red', width=0.03)\n",
    "    \n",
    "    # Weight force\n",
    "    ax.arrow(center[0], center[1], 0, -1, head_width=0.1, \n",
    "             head_length=0.2, fc='blue', ec='blue', width=0.03)\n",
    "    \n",
    "    # Add labels\n",
    "    ax.text(center[0] - rope_length * np.cos(angle_rad) * 0.4, \n",
    "            center[1] + rope_length * np.sin(angle_rad) * 0.4, \n",
    "            f'T = {tension:.1f} N', color='red')\n",
    "    ax.text(center[0] + rope_length * np.cos(angle_rad) * 0.4, \n",
    "            center[1] + rope_length * np.sin(angle_rad) * 0.4, \n",
    "            f'T = {tension:.1f} N', color='red')\n",
    "    ax.text(center[0] + 0.2, center[1] - 0.5, f'mg = {weight:.1f} N', color='blue')\n",
    "    \n",
    "    # Add angle labels\n",
    "    ax.text(center[0] - 0.7, center[1] + 0.3, f'θ = {angle_deg}°')\n",
    "    ax.text(center[0] + 0.5, center[1] + 0.3, f'θ = {angle_deg}°')\n",
    "    \n",
    "    # Set axis properties\n",
    "    ax.set_xlim(2, 8)\n",
    "    ax.set_ylim(1, 6)\n",
    "    ax.set_aspect('equal')\n",
    "    ax.axis('off')\n",
    "    plt.title('Bear Bag Force Diagram')\n",
    "    \n",
    "    plt.tight_layout()\n",
    "    plt.show()\n",
    "\n",
    "# Calculate weight in Newtons\n",
    "weight = 17 * 9.81\n",
    "# Draw the diagram with our calculated tension\n",
    "draw_bear_bag(22, tension_value, weight)"
   ]
  },
  {
   "cell_type": "markdown",
   "id": "4b3bd512",
   "metadata": {},
   "source": [
    "## Analysis and Conclusions\n",
    "\n",
    "The tension in each rope supporting the bear bag is approximately **223.0 N**.\n",
    "\n",
    "### Key Physics Concepts Demonstrated:\n",
    "1. **Force Resolution**: Breaking tension forces into components\n",
    "2. **Static Equilibrium**: Sum of forces equals zero\n",
    "3. **Trigonometry in Physics**: Using sine to find vertical components\n",
    "\n",
    "### Real-world Implications:\n",
    "- Smaller angles from horizontal create greater tension in the ropes\n",
    "- This explains why bear bags should be hung with appropriate angles to reduce rope strain\n",
    "- The same principles apply to other suspended systems like bridges and ziplines"
   ]
  },
  {
   "cell_type": "code",
   "execution_count": null,
   "id": "eb93e288",
   "metadata": {},
   "outputs": [],
   "source": []
  }
 ],
 "metadata": {
  "kernelspec": {
   "display_name": "Python 3",
   "language": "python",
   "name": "python3"
  },
  "language_info": {
   "codemirror_mode": {
    "name": "ipython",
    "version": 3
   },
   "file_extension": ".py",
   "mimetype": "text/x-python",
   "name": "python",
   "nbconvert_exporter": "python",
   "pygments_lexer": "ipython3",
   "version": "3.12.1"
  }
 },
 "nbformat": 4,
 "nbformat_minor": 5
}
