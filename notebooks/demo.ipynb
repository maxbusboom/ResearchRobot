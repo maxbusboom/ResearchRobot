{
 "cells": [
  {
   "cell_type": "code",
   "execution_count": 1,
   "id": "3bea1419",
   "metadata": {},
   "outputs": [
    {
     "name": "stdout",
     "output_type": "stream",
     "text": [
      "The capital of France is Paris.\n"
     ]
    }
   ],
   "source": [
    "import os\n",
    "from openai import OpenAI\n",
    "\n",
    "token = os.environ[\"GITHUB_TOKEN\"]\n",
    "endpoint = \"https://models.github.ai/inference\"\n",
    "model = \"openai/gpt-4.1\"\n",
    "\n",
    "client = OpenAI(\n",
    "    base_url=endpoint,\n",
    "    api_key=token,\n",
    ")\n",
    "\n",
    "response = client.chat.completions.create(\n",
    "    messages=[\n",
    "        {\n",
    "            \"role\": \"system\",\n",
    "            \"content\": \"You are a helpful assistant.\",\n",
    "        },\n",
    "        {\n",
    "            \"role\": \"user\",\n",
    "            \"content\": \"What is the capital of France?\",\n",
    "        }\n",
    "    ],\n",
    "    temperature=1.0,\n",
    "    top_p=1.0,\n",
    "    model=model\n",
    ")\n",
    "\n",
    "print(response.choices[0].message.content)\n",
    "\n"
   ]
  },
  {
   "cell_type": "code",
   "execution_count": 14,
   "id": "56a15e3d",
   "metadata": {},
   "outputs": [
    {
     "name": "stdout",
     "output_type": "stream",
     "text": [
      "Step: read_and_understand\n",
      "Description: {'title': 'Read and Understand', 'instructions': 'Read the problem carefully, identifying the situation described \\nand what needs to be solved.\\n'}\n",
      "\n",
      "\n",
      "Step: identify_quantities_and_forces\n",
      "Description: {'title': 'Identify Quantities and Forces', 'instructions': '- Extract all given quantities (masses, angles, distances, velocities, etc.)\\n- Identify all forces involved (gravity, friction, tension, applied forces, etc.)\\n- Establish coordinate system and sign conventions\\n'}\n",
      "\n",
      "\n",
      "Step: display_and_explain\n",
      "Description: {'title': 'Display and Explain', 'instructions': '- List all identified quantities with their values and units\\n- Explain the physical significance of each quantity/force in the context\\n- When helpful, include a sketch or free-body diagram\\n'}\n",
      "\n",
      "\n",
      "Step: determine_relationships\n",
      "Description: {'title': 'Determine Relationships', 'instructions': '- Find relevant physics principles and equations that apply\\n- Explain why each equation is applicable to this situation\\n- Show how these equations can be combined to find the unknown\\n'}\n",
      "\n",
      "\n",
      "Step: solve_mathematically\n",
      "Description: {'title': 'Solve Mathematically', 'instructions': '- Use symbolic manipulation to solve for the unknown\\n- Implement a SymPy solution showing each step\\n- Substitute values with correct units\\n- Verify the answer makes physical sense\\n'}\n",
      "\n",
      "\n",
      "Step: conclude\n",
      "Description: {'title': 'Conclude', 'instructions': '- Present the final answer with correct units and appropriate precision\\n- Interpret what the result means in the context of the problem\\n'}\n",
      "\n",
      "\n"
     ]
    }
   ],
   "source": [
    "from pathlib import Path\n",
    "import yaml\n",
    "\n",
    "prompts_dir = Path().cwd().parent / \"prompts\"\n",
    "\n",
    "steps = yaml.safe_load((prompts_dir / 'steps.yaml').read_text())\n",
    "\n",
    "for k, v in steps.items():\n",
    "    print(f\"Step: {k}\")\n",
    "    print(f\"Description: {v}\")\n",
    "\n",
    "    print(\"\\n\")\n"
   ]
  },
  {
   "cell_type": "code",
   "execution_count": 11,
   "id": "fbdcf6c3",
   "metadata": {},
   "outputs": [],
   "source": [
    "system_prompt = (prompts_dir / 'system.md').read_text()"
   ]
  },
  {
   "cell_type": "code",
   "execution_count": null,
   "id": "4b6ac1e3",
   "metadata": {},
   "outputs": [],
   "source": []
  },
  {
   "cell_type": "code",
   "execution_count": 29,
   "id": "773291ad",
   "metadata": {},
   "outputs": [
    {
     "name": "stdout",
     "output_type": "stream",
     "text": [
      "\n",
      "\n",
      " \n",
      "Here is a physics problem I need help with.\n",
      "\n",
      "\n",
      "Current_Step: Read and Understand\n",
      "\n",
      "Read the problem carefully, identifying the situation described \n",
      "and what needs to be solved.\n",
      "\n",
      "\n",
      "Prior steps results: \n",
      "\n",
      "Here are the results of prior steps.\n",
      "\n",
      "Next step Goal: Identify Quantities and Forces\n",
      "\n",
      "- Extract all given quantities (masses, angles, distances, velocities, etc.)\n",
      "- Identify all forces involved (gravity, friction, tension, applied forces, etc.)\n",
      "- Establish coordinate system and sign conventions\n",
      "\n",
      "\n",
      "\n",
      "\n"
     ]
    }
   ],
   "source": [
    "user_template = \"\"\"\n",
    "\n",
    "{user_problem}\n",
    "\n",
    "Current_Step: {current_step_title}\n",
    "\n",
    "{current_step_instructions}\n",
    "\n",
    "Prior steps results: \n",
    "\n",
    "{prior_steps_results}\n",
    "\n",
    "Next step Goal: {next_step_title}\n",
    "\n",
    "{next_step_instructions}\n",
    "\n",
    "\n",
    "\"\"\"\n",
    "\n",
    "user_problem = \"\"\" \n",
    "Here is a physics problem I need help with.\n",
    "\"\"\"\n",
    "\n",
    "# Convert steps dict to a list of dicts for ordered access\n",
    "steps_list = list(steps.values())\n",
    "\n",
    "current_step = steps_list[0]\n",
    "next_step_goal = steps_list[1]\n",
    "\n",
    "formatted_template = user_template.format(\n",
    "    user_problem=user_problem, \n",
    "    current_step_title=current_step['title'],\n",
    "    current_step_instructions=current_step['instructions'],\n",
    "    prior_steps_results=\"Here are the results of prior steps.\",\n",
    "    next_step_title=next_step_goal['title'],\n",
    "    next_step_instructions=next_step_goal['instructions']\n",
    ")\n",
    "\n",
    "print(formatted_template)"
   ]
  },
  {
   "cell_type": "code",
   "execution_count": 27,
   "id": "9635f6bf",
   "metadata": {},
   "outputs": [
    {
     "data": {
      "text/plain": [
       "'Read and Understand'"
      ]
     },
     "execution_count": 27,
     "metadata": {},
     "output_type": "execute_result"
    }
   ],
   "source": [
    "steps_list[0]['title']\n"
   ]
  },
  {
   "cell_type": "code",
   "execution_count": null,
   "id": "c8bc48f6",
   "metadata": {},
   "outputs": [],
   "source": []
  }
 ],
 "metadata": {
  "kernelspec": {
   "display_name": "Python 3",
   "language": "python",
   "name": "python3"
  },
  "language_info": {
   "codemirror_mode": {
    "name": "ipython",
    "version": 3
   },
   "file_extension": ".py",
   "mimetype": "text/x-python",
   "name": "python",
   "nbconvert_exporter": "python",
   "pygments_lexer": "ipython3",
   "version": "3.12.10"
  }
 },
 "nbformat": 4,
 "nbformat_minor": 5
}
